{
 "cells": [
  {
   "cell_type": "markdown",
   "metadata": {},
   "source": [
    "This document was created to investigate and apply neccessary additional data cleaning steps to the document `activities_cleaned.csv` located in `Running Analysis` folder."
   ]
  },
  {
   "cell_type": "code",
   "execution_count": 41,
   "metadata": {},
   "outputs": [],
   "source": [
    "import pandas as pd\n",
    "\n",
    "import os\n"
   ]
  },
  {
   "cell_type": "code",
   "execution_count": 42,
   "metadata": {},
   "outputs": [],
   "source": [
    "import warnings\n",
    "warnings.filterwarnings('ignore')"
   ]
  },
  {
   "cell_type": "code",
   "execution_count": 43,
   "metadata": {},
   "outputs": [],
   "source": [
    "# Get the current working directory\n",
    "current_dir = os.getcwd()\n",
    "\n",
    "# Parent Directory\n",
    "parent_dir = os.path.dirname(current_dir)\n",
    "\n",
    "# Running_Archive path\n",
    "Running_archive_dir = os.path.join(parent_dir, 'Running Analysis')\n",
    "\n",
    "# Working file\n",
    "file_path = os.path.join(Running_archive_dir, 'activities_cleaned.csv')\n"
   ]
  },
  {
   "cell_type": "code",
   "execution_count": 44,
   "metadata": {},
   "outputs": [
    {
     "name": "stdout",
     "output_type": "stream",
     "text": [
      "Series([], dtype: float64)\n"
     ]
    },
    {
     "data": {
      "text/html": [
       "<div>\n",
       "<style scoped>\n",
       "    .dataframe tbody tr th:only-of-type {\n",
       "        vertical-align: middle;\n",
       "    }\n",
       "\n",
       "    .dataframe tbody tr th {\n",
       "        vertical-align: top;\n",
       "    }\n",
       "\n",
       "    .dataframe thead th {\n",
       "        text-align: right;\n",
       "    }\n",
       "</style>\n",
       "<table border=\"1\" class=\"dataframe\">\n",
       "  <thead>\n",
       "    <tr style=\"text-align: right;\">\n",
       "      <th></th>\n",
       "      <th>Activity ID</th>\n",
       "      <th>Max. Elevation (Raw)</th>\n",
       "      <th>Min. Elevation (Raw)</th>\n",
       "      <th>Elevation Gain (Raw)</th>\n",
       "      <th>Elevation Loss (Raw)</th>\n",
       "      <th>Average Heart Rate (bpm)</th>\n",
       "      <th>Max. Heart Rate (bpm).1</th>\n",
       "      <th>Distance (Raw)</th>\n",
       "      <th>Begin Latitude (Decimal Degrees Raw)</th>\n",
       "      <th>Begin Longitude (Decimal Degrees Raw)</th>\n",
       "      <th>End Latitude (Decimal Degrees Raw)</th>\n",
       "      <th>End Longitude (Decimal Degrees Raw)</th>\n",
       "      <th>Temperature (Raw)</th>\n",
       "      <th>Wind Speed (Raw)</th>\n",
       "      <th>Humidity (Raw)</th>\n",
       "    </tr>\n",
       "  </thead>\n",
       "  <tbody>\n",
       "    <tr>\n",
       "      <th>count</th>\n",
       "      <td>1.550000e+02</td>\n",
       "      <td>155.000000</td>\n",
       "      <td>155.000000</td>\n",
       "      <td>155.000000</td>\n",
       "      <td>155.000000</td>\n",
       "      <td>155.000000</td>\n",
       "      <td>155.000000</td>\n",
       "      <td>155.000000</td>\n",
       "      <td>155.000000</td>\n",
       "      <td>155.000000</td>\n",
       "      <td>155.000000</td>\n",
       "      <td>155.000000</td>\n",
       "      <td>155.000000</td>\n",
       "      <td>155.000000</td>\n",
       "      <td>155.000000</td>\n",
       "    </tr>\n",
       "    <tr>\n",
       "      <th>mean</th>\n",
       "      <td>1.534023e+09</td>\n",
       "      <td>383.125613</td>\n",
       "      <td>383.125613</td>\n",
       "      <td>158.055097</td>\n",
       "      <td>158.407484</td>\n",
       "      <td>174.148387</td>\n",
       "      <td>96.941935</td>\n",
       "      <td>26.776991</td>\n",
       "      <td>48.024921</td>\n",
       "      <td>7.826712</td>\n",
       "      <td>48.025003</td>\n",
       "      <td>7.819512</td>\n",
       "      <td>18.165806</td>\n",
       "      <td>9.948387</td>\n",
       "      <td>65.322581</td>\n",
       "    </tr>\n",
       "    <tr>\n",
       "      <th>std</th>\n",
       "      <td>2.847469e+08</td>\n",
       "      <td>117.063615</td>\n",
       "      <td>117.063615</td>\n",
       "      <td>119.421463</td>\n",
       "      <td>118.436687</td>\n",
       "      <td>5.275271</td>\n",
       "      <td>9.664662</td>\n",
       "      <td>251.049566</td>\n",
       "      <td>0.019401</td>\n",
       "      <td>0.057301</td>\n",
       "      <td>0.019344</td>\n",
       "      <td>0.055797</td>\n",
       "      <td>6.917693</td>\n",
       "      <td>5.588478</td>\n",
       "      <td>17.519538</td>\n",
       "    </tr>\n",
       "    <tr>\n",
       "      <th>min</th>\n",
       "      <td>9.083326e+08</td>\n",
       "      <td>159.800000</td>\n",
       "      <td>159.800000</td>\n",
       "      <td>3.000000</td>\n",
       "      <td>3.000000</td>\n",
       "      <td>135.000000</td>\n",
       "      <td>70.000000</td>\n",
       "      <td>2.701190</td>\n",
       "      <td>48.008097</td>\n",
       "      <td>7.534500</td>\n",
       "      <td>48.009655</td>\n",
       "      <td>7.535721</td>\n",
       "      <td>-2.800000</td>\n",
       "      <td>2.000000</td>\n",
       "      <td>26.000000</td>\n",
       "    </tr>\n",
       "    <tr>\n",
       "      <th>25%</th>\n",
       "      <td>1.297725e+09</td>\n",
       "      <td>307.245000</td>\n",
       "      <td>307.245000</td>\n",
       "      <td>70.000000</td>\n",
       "      <td>70.095000</td>\n",
       "      <td>173.000000</td>\n",
       "      <td>95.000000</td>\n",
       "      <td>5.016340</td>\n",
       "      <td>48.024921</td>\n",
       "      <td>7.826712</td>\n",
       "      <td>48.025003</td>\n",
       "      <td>7.819512</td>\n",
       "      <td>14.450000</td>\n",
       "      <td>5.000000</td>\n",
       "      <td>53.000000</td>\n",
       "    </tr>\n",
       "    <tr>\n",
       "      <th>50%</th>\n",
       "      <td>1.449839e+09</td>\n",
       "      <td>326.680000</td>\n",
       "      <td>326.680000</td>\n",
       "      <td>134.500000</td>\n",
       "      <td>132.610000</td>\n",
       "      <td>174.000000</td>\n",
       "      <td>97.000000</td>\n",
       "      <td>6.107940</td>\n",
       "      <td>48.024921</td>\n",
       "      <td>7.826712</td>\n",
       "      <td>48.025003</td>\n",
       "      <td>7.819512</td>\n",
       "      <td>18.900000</td>\n",
       "      <td>10.000000</td>\n",
       "      <td>64.000000</td>\n",
       "    </tr>\n",
       "    <tr>\n",
       "      <th>75%</th>\n",
       "      <td>1.743754e+09</td>\n",
       "      <td>456.705000</td>\n",
       "      <td>456.705000</td>\n",
       "      <td>217.270000</td>\n",
       "      <td>218.110000</td>\n",
       "      <td>176.000000</td>\n",
       "      <td>98.000000</td>\n",
       "      <td>7.773235</td>\n",
       "      <td>48.024921</td>\n",
       "      <td>7.826712</td>\n",
       "      <td>48.025003</td>\n",
       "      <td>7.819512</td>\n",
       "      <td>22.800000</td>\n",
       "      <td>13.000000</td>\n",
       "      <td>77.000000</td>\n",
       "    </tr>\n",
       "    <tr>\n",
       "      <th>max</th>\n",
       "      <td>2.284659e+09</td>\n",
       "      <td>756.600000</td>\n",
       "      <td>756.600000</td>\n",
       "      <td>622.000000</td>\n",
       "      <td>624.000000</td>\n",
       "      <td>192.000000</td>\n",
       "      <td>143.000000</td>\n",
       "      <td>3132.000000</td>\n",
       "      <td>48.261844</td>\n",
       "      <td>7.984675</td>\n",
       "      <td>48.261721</td>\n",
       "      <td>7.984625</td>\n",
       "      <td>32.800000</td>\n",
       "      <td>27.000000</td>\n",
       "      <td>100.000000</td>\n",
       "    </tr>\n",
       "  </tbody>\n",
       "</table>\n",
       "</div>"
      ],
      "text/plain": [
       "        Activity ID  Max. Elevation (Raw)  Min. Elevation (Raw)  \\\n",
       "count  1.550000e+02            155.000000            155.000000   \n",
       "mean   1.534023e+09            383.125613            383.125613   \n",
       "std    2.847469e+08            117.063615            117.063615   \n",
       "min    9.083326e+08            159.800000            159.800000   \n",
       "25%    1.297725e+09            307.245000            307.245000   \n",
       "50%    1.449839e+09            326.680000            326.680000   \n",
       "75%    1.743754e+09            456.705000            456.705000   \n",
       "max    2.284659e+09            756.600000            756.600000   \n",
       "\n",
       "       Elevation Gain (Raw)  Elevation Loss (Raw)  Average Heart Rate (bpm)  \\\n",
       "count            155.000000            155.000000                155.000000   \n",
       "mean             158.055097            158.407484                174.148387   \n",
       "std              119.421463            118.436687                  5.275271   \n",
       "min                3.000000              3.000000                135.000000   \n",
       "25%               70.000000             70.095000                173.000000   \n",
       "50%              134.500000            132.610000                174.000000   \n",
       "75%              217.270000            218.110000                176.000000   \n",
       "max              622.000000            624.000000                192.000000   \n",
       "\n",
       "       Max. Heart Rate (bpm).1  Distance (Raw)  \\\n",
       "count               155.000000      155.000000   \n",
       "mean                 96.941935       26.776991   \n",
       "std                   9.664662      251.049566   \n",
       "min                  70.000000        2.701190   \n",
       "25%                  95.000000        5.016340   \n",
       "50%                  97.000000        6.107940   \n",
       "75%                  98.000000        7.773235   \n",
       "max                 143.000000     3132.000000   \n",
       "\n",
       "       Begin Latitude (Decimal Degrees Raw)  \\\n",
       "count                            155.000000   \n",
       "mean                              48.024921   \n",
       "std                                0.019401   \n",
       "min                               48.008097   \n",
       "25%                               48.024921   \n",
       "50%                               48.024921   \n",
       "75%                               48.024921   \n",
       "max                               48.261844   \n",
       "\n",
       "       Begin Longitude (Decimal Degrees Raw)  \\\n",
       "count                             155.000000   \n",
       "mean                                7.826712   \n",
       "std                                 0.057301   \n",
       "min                                 7.534500   \n",
       "25%                                 7.826712   \n",
       "50%                                 7.826712   \n",
       "75%                                 7.826712   \n",
       "max                                 7.984675   \n",
       "\n",
       "       End Latitude (Decimal Degrees Raw)  \\\n",
       "count                          155.000000   \n",
       "mean                            48.025003   \n",
       "std                              0.019344   \n",
       "min                             48.009655   \n",
       "25%                             48.025003   \n",
       "50%                             48.025003   \n",
       "75%                             48.025003   \n",
       "max                             48.261721   \n",
       "\n",
       "       End Longitude (Decimal Degrees Raw)  Temperature (Raw)  \\\n",
       "count                           155.000000         155.000000   \n",
       "mean                              7.819512          18.165806   \n",
       "std                               0.055797           6.917693   \n",
       "min                               7.535721          -2.800000   \n",
       "25%                               7.819512          14.450000   \n",
       "50%                               7.819512          18.900000   \n",
       "75%                               7.819512          22.800000   \n",
       "max                               7.984625          32.800000   \n",
       "\n",
       "       Wind Speed (Raw)  Humidity (Raw)  \n",
       "count        155.000000      155.000000  \n",
       "mean           9.948387       65.322581  \n",
       "std            5.588478       17.519538  \n",
       "min            2.000000       26.000000  \n",
       "25%            5.000000       53.000000  \n",
       "50%           10.000000       64.000000  \n",
       "75%           13.000000       77.000000  \n",
       "max           27.000000      100.000000  "
      ]
     },
     "execution_count": 44,
     "metadata": {},
     "output_type": "execute_result"
    }
   ],
   "source": [
    "df = pd.read_csv(file_path)\n",
    "\n",
    "# Check for missing values \n",
    "missing_values = df.isnull().mean() * 100\n",
    "print(missing_values[missing_values > 0])\n",
    "\n",
    "# Generate descriptive statistic for numeric columns\n",
    "df.describe()\n"
   ]
  },
  {
   "cell_type": "markdown",
   "metadata": {},
   "source": [
    "After working with the team, we discovered that some data types were incorrectly recorded as 'object' when they should not have been. This issue has created obstacles in progressing the project. To address this, we will now list all columns where the data type is 'object' and review them for necessary corrections.\n"
   ]
  },
  {
   "cell_type": "code",
   "execution_count": 45,
   "metadata": {},
   "outputs": [
    {
     "name": "stdout",
     "output_type": "stream",
     "text": [
      "Index(['Activity Type', 'Begin Timestamp', 'End Timestamp',\n",
      "       'Average Moving Speed', 'Average Speed', 'Max. Speed',\n",
      "       'Duration (h:m:s)', 'Moving Duration (h:m:s)', 'Calories', 'Device',\n",
      "       'Wind Direction', 'Condition', 'Rainfall'],\n",
      "      dtype='object')\n"
     ]
    }
   ],
   "source": [
    "objects_columns = df.select_dtypes(include=['object']).columns\n",
    "print(objects_columns)"
   ]
  },
  {
   "cell_type": "markdown",
   "metadata": {},
   "source": [
    "From the list, we can see that some variables should have different dtypes than object, we will dig deeper into these columns."
   ]
  },
  {
   "cell_type": "code",
   "execution_count": 46,
   "metadata": {},
   "outputs": [
    {
     "data": {
      "text/html": [
       "<div>\n",
       "<style scoped>\n",
       "    .dataframe tbody tr th:only-of-type {\n",
       "        vertical-align: middle;\n",
       "    }\n",
       "\n",
       "    .dataframe tbody tr th {\n",
       "        vertical-align: top;\n",
       "    }\n",
       "\n",
       "    .dataframe thead th {\n",
       "        text-align: right;\n",
       "    }\n",
       "</style>\n",
       "<table border=\"1\" class=\"dataframe\">\n",
       "  <thead>\n",
       "    <tr style=\"text-align: right;\">\n",
       "      <th></th>\n",
       "      <th>Average Moving Speed</th>\n",
       "      <th>Max. Speed</th>\n",
       "      <th>Average Speed</th>\n",
       "      <th>Duration (h:m:s)</th>\n",
       "      <th>Moving Duration (h:m:s)</th>\n",
       "      <th>Calories</th>\n",
       "    </tr>\n",
       "  </thead>\n",
       "  <tbody>\n",
       "    <tr>\n",
       "      <th>0</th>\n",
       "      <td>6:47</td>\n",
       "      <td>4:55</td>\n",
       "      <td>6:47</td>\n",
       "      <td>0:59:03</td>\n",
       "      <td>0:58:50</td>\n",
       "      <td>753</td>\n",
       "    </tr>\n",
       "    <tr>\n",
       "      <th>1</th>\n",
       "      <td>6:18</td>\n",
       "      <td>4:33</td>\n",
       "      <td>6:18</td>\n",
       "      <td>0:48:00</td>\n",
       "      <td>0:48:02</td>\n",
       "      <td>626</td>\n",
       "    </tr>\n",
       "    <tr>\n",
       "      <th>2</th>\n",
       "      <td>5:52</td>\n",
       "      <td>4:29</td>\n",
       "      <td>5:52</td>\n",
       "      <td>0:39:18</td>\n",
       "      <td>0:38:44</td>\n",
       "      <td>528</td>\n",
       "    </tr>\n",
       "    <tr>\n",
       "      <th>3</th>\n",
       "      <td>6:11</td>\n",
       "      <td>4:27</td>\n",
       "      <td>6:11</td>\n",
       "      <td>0:48:10</td>\n",
       "      <td>0:47:57</td>\n",
       "      <td>661</td>\n",
       "    </tr>\n",
       "    <tr>\n",
       "      <th>4</th>\n",
       "      <td>6:01</td>\n",
       "      <td>4:19</td>\n",
       "      <td>6:01</td>\n",
       "      <td>0:47:40</td>\n",
       "      <td>0:47:04</td>\n",
       "      <td>619</td>\n",
       "    </tr>\n",
       "  </tbody>\n",
       "</table>\n",
       "</div>"
      ],
      "text/plain": [
       "  Average Moving Speed Max. Speed Average Speed Duration (h:m:s)  \\\n",
       "0                 6:47       4:55          6:47          0:59:03   \n",
       "1                 6:18       4:33          6:18          0:48:00   \n",
       "2                 5:52       4:29          5:52          0:39:18   \n",
       "3                 6:11       4:27          6:11          0:48:10   \n",
       "4                 6:01       4:19          6:01          0:47:40   \n",
       "\n",
       "  Moving Duration (h:m:s) Calories  \n",
       "0                 0:58:50      753  \n",
       "1                 0:48:02      626  \n",
       "2                 0:38:44      528  \n",
       "3                 0:47:57      661  \n",
       "4                 0:47:04      619  "
      ]
     },
     "execution_count": 46,
     "metadata": {},
     "output_type": "execute_result"
    }
   ],
   "source": [
    "selected_columns = ['Average Moving Speed','Max. Speed','Average Speed','Duration (h:m:s)','Moving Duration (h:m:s)','Calories']\n",
    "\n",
    "selected_columns_df = df[selected_columns]\n",
    "\n",
    "selected_columns_df.head()\n"
   ]
  },
  {
   "cell_type": "markdown",
   "metadata": {},
   "source": [
    "From here we will do neccessary transformation to these columns.\n",
    "1. With speed columns: Convert from pace into km/ h.\n",
    "2. With duration columns: Create duration (in seconds) columns.\n",
    "3. With calories column: Directly convert to numeric with pandas."
   ]
  },
  {
   "cell_type": "code",
   "execution_count": 47,
   "metadata": {},
   "outputs": [],
   "source": [
    "# 1. Converting pace to km/ h\n",
    "## During the process, we figured out there is one data point has incorrect input format for `Average Moving Speed` (indx 88).\n",
    "## To reduce complexity, we manually editted this value in Excel. \n",
    "\n",
    "def pace_to_speed(pace):\n",
    "    parts = pace.split(':')\n",
    "    minutes, seconds = map(int, parts)\n",
    "    pace_in_sec = (minutes * 60) + seconds\n",
    "    speed_kmh = 3600.0 / pace_in_sec\n",
    "    return speed_kmh\n",
    "\n",
    "#Apply converter\n",
    "df['Average Moving Speed'] = df['Average Moving Speed'].apply(pace_to_speed)\n",
    "df['Max. Speed'] = df['Max. Speed'].apply(pace_to_speed)\n",
    "df['Average Speed'] = df['Average Speed'].apply(pace_to_speed)\n"
   ]
  },
  {
   "cell_type": "code",
   "execution_count": 48,
   "metadata": {},
   "outputs": [
    {
     "name": "stdout",
     "output_type": "stream",
     "text": [
      "   Average Moving Speed  Max. Speed  Average Speed\n",
      "0              8.845209   12.203390       8.845209\n",
      "1              9.523810   13.186813       9.523810\n",
      "2             10.227273   13.382900      10.227273\n",
      "3              9.703504   13.483146       9.703504\n",
      "4              9.972299   13.899614       9.972299\n",
      "Average Moving Speed    0\n",
      "Max. Speed              0\n",
      "Average Speed           0\n",
      "dtype: int64\n"
     ]
    }
   ],
   "source": [
    "# Check the result\n",
    "print(df[['Average Moving Speed', 'Max. Speed', 'Average Speed']].head())\n",
    "print(df[['Average Moving Speed', 'Max. Speed', 'Average Speed']].isnull().sum())"
   ]
  },
  {
   "cell_type": "code",
   "execution_count": 49,
   "metadata": {},
   "outputs": [
    {
     "name": "stdout",
     "output_type": "stream",
     "text": [
      "  Duration (h:m:s)  Duration (seconds) Moving Duration (h:m:s)  \\\n",
      "0          0:59:03                3543                 0:58:50   \n",
      "1          0:48:00                2880                 0:48:02   \n",
      "2          0:39:18                2358                 0:38:44   \n",
      "3          0:48:10                2890                 0:47:57   \n",
      "4          0:47:40                2860                 0:47:04   \n",
      "\n",
      "   Moving Duration (seconds)  \n",
      "0                       3530  \n",
      "1                       2882  \n",
      "2                       2324  \n",
      "3                       2877  \n",
      "4                       2824  \n"
     ]
    }
   ],
   "source": [
    "#2. Durtaion in seconds\n",
    "\n",
    "def duration_to_seconds(duration):\n",
    "    hours, minutes, seconds = map(int, duration.split(':'))\n",
    "    total_seconds = hours * 3600 + minutes * 60 + seconds\n",
    "    return total_seconds\n",
    "\n",
    "df['Duration (seconds)'] = df['Duration (h:m:s)'].apply(duration_to_seconds)\n",
    "df['Moving Duration (seconds)'] = df['Moving Duration (h:m:s)'].apply(duration_to_seconds)\n",
    "\n",
    "print(df[['Duration (h:m:s)', 'Duration (seconds)', 'Moving Duration (h:m:s)', 'Moving Duration (seconds)']].head())\n"
   ]
  },
  {
   "cell_type": "code",
   "execution_count": null,
   "metadata": {},
   "outputs": [],
   "source": [
    "# There are some values in 'Calories' have 4 digits and contain comma, we will deal with this before converting the column to numeric\n",
    "problematic_calories = df[df['Calories'].str.contains(',', na=False) | df['Calories'].str.contains(' ', na=False)]\n",
    "print(problematic_calories)\n"
   ]
  },
  {
   "cell_type": "code",
   "execution_count": 52,
   "metadata": {},
   "outputs": [],
   "source": [
    "# Relacing commas\n",
    "df['Calories'] = df['Calories'].str.replace(',', '').str.replace(' ', '')\n"
   ]
  },
  {
   "cell_type": "code",
   "execution_count": 53,
   "metadata": {},
   "outputs": [
    {
     "name": "stdout",
     "output_type": "stream",
     "text": [
      "   Calories\n",
      "0       753\n",
      "1       626\n",
      "2       528\n",
      "3       661\n",
      "4       619\n",
      "0\n"
     ]
    }
   ],
   "source": [
    "# Calories to numeric\n",
    "df['Calories'] = pd.to_numeric(df['Calories'], errors='coerce')\n",
    "\n",
    "print(df[['Calories']].head())\n",
    "print(df['Calories'].isnull().sum())\n"
   ]
  },
  {
   "cell_type": "code",
   "execution_count": 54,
   "metadata": {},
   "outputs": [
    {
     "name": "stdout",
     "output_type": "stream",
     "text": [
      "<class 'pandas.core.frame.DataFrame'>\n",
      "RangeIndex: 155 entries, 0 to 154\n",
      "Data columns (total 6 columns):\n",
      " #   Column                     Non-Null Count  Dtype  \n",
      "---  ------                     --------------  -----  \n",
      " 0   Average Moving Speed       155 non-null    float64\n",
      " 1   Average Speed              155 non-null    float64\n",
      " 2   Max. Speed                 155 non-null    float64\n",
      " 3   Duration (seconds)         155 non-null    int64  \n",
      " 4   Moving Duration (seconds)  155 non-null    int64  \n",
      " 5   Calories                   155 non-null    int64  \n",
      "dtypes: float64(3), int64(3)\n",
      "memory usage: 7.4 KB\n",
      "None\n"
     ]
    }
   ],
   "source": [
    "# Check the result\n",
    "result = ['Average Moving Speed','Average Speed', 'Max. Speed','Duration (seconds)', 'Moving Duration (seconds)', 'Calories']\n",
    "result_columns = df[result]\n",
    "\n",
    "\n",
    "print(result_columns.info())"
   ]
  },
  {
   "cell_type": "markdown",
   "metadata": {},
   "source": [
    "After fixing the Dtypes of some problematic columns, we also observed some inconsistency in values of Elevation and Heart Rate variables.\n",
    "\n",
    "1. Some of the Maximum and Minimum Elevation values were observed to be exactly the same, we will confirm this and make neccessary transformation. \n",
    "\n",
    "2. Some of the Maximum Heart Rate values were observed to be lower than Average Heart rate, we will dig into this and make neccessary transformation. "
   ]
  },
  {
   "cell_type": "code",
   "execution_count": 55,
   "metadata": {},
   "outputs": [
    {
     "data": {
      "image/png": "[encoded data removed]",
      "text/plain": [
       "<Figure size 1000x600 with 1 Axes>"
      ]
     },
     "metadata": {},
     "output_type": "display_data"
    },
    {
     "data": {
      "image/png": "[encoded data removed]",
      "text/plain": [
       "<Figure size 1000x600 with 1 Axes>"
      ]
     },
     "metadata": {},
     "output_type": "display_data"
    }
   ],
   "source": [
    "import matplotlib.pyplot as plt\n",
    "import seaborn as sns\n",
    "\n",
    "# Scatter plot to visualize min vs. max elevation\n",
    "plt.figure(figsize=(10, 6))\n",
    "sns.scatterplot(x='Min. Elevation (Raw)', y='Max. Elevation (Raw)', data=df)\n",
    "plt.title('Min vs. Max Elevation')\n",
    "plt.xlabel('Min Elevation')\n",
    "plt.ylabel('Max Elevation')\n",
    "plt.show()\n",
    "\n",
    "# Histogram of elevation gains and losses\n",
    "plt.figure(figsize=(10, 6))\n",
    "sns.histplot(df['Elevation Gain (Raw)'], bins=20, kde=True, color='blue', label='Elevation Gain')\n",
    "sns.histplot(df['Elevation Loss (Raw)'], bins=20, kde=True, color='red', label='Elevation Loss')\n",
    "plt.title('Elevation Gain and Loss')\n",
    "plt.xlabel('Elevation')\n",
    "plt.ylabel('Frequency')\n",
    "plt.legend()\n",
    "plt.show()\n"
   ]
  },
  {
   "cell_type": "markdown",
   "metadata": {},
   "source": [
    "We can clearly see that all of Maximum and Minimum Elevation values are the same, while there are still changes in elevation gain/ losses.\n",
    "\n",
    "To deal with this problem, we will extract Elevation values from original .gpx files from 'activities' folder. This folder contains time-series data (second by second) of each activity, including `heart rate`, `cadence`, `elevation`, `longtitude`, and `lattitude`.\n",
    "\n",
    "We will then replace the minimum elevation values from these files to the summary working file. \n"
   ]
  },
  {
   "cell_type": "code",
   "execution_count": 66,
   "metadata": {},
   "outputs": [
    {
     "name": "stdout",
     "output_type": "stream",
     "text": [
      "Number of null values in Min. Elevation (Raw) after replacement: 0\n",
      "   Activity ID  Min. Elevation (Raw)\n",
      "0   2284658991            240.800003\n",
      "1   2284658936            241.800003\n",
      "2   2228102647            186.399994\n",
      "3   2104984694            239.399994\n",
      "4   2084195352            263.600006\n",
      "5   2021230223            250.000000\n",
      "6   2006998728            242.000000\n",
      "7   2006998614            262.799988\n",
      "8   1988390950            243.199997\n",
      "9   1971778346            227.600006\n"
     ]
    }
   ],
   "source": [
    "import os\n",
    "import gpxpy\n",
    "import pandas as pd\n",
    "\n",
    "# Path to the correct folder containing the .gpx files\n",
    "activities_dir = os.path.join(os.getcwd(), 'activites','activites')\n",
    "\n",
    "\n",
    "def gpx_to_min_elevation(gpx_file):\n",
    "    \"\"\"Parse a .gpx file to extract the minimum elevation.\"\"\"\n",
    "    with open(gpx_file, 'r') as file:\n",
    "        gpx = gpxpy.parse(file)\n",
    "        \n",
    "    elevations = []\n",
    "    for track in gpx.tracks:\n",
    "        for segment in track.segments:\n",
    "            for point in segment.points:\n",
    "                elevations.append(point.elevation)\n",
    "                \n",
    "    if elevations:\n",
    "        return min(elevations)\n",
    "    else:\n",
    "        return None\n",
    "\n",
    "# Initialize list to store the new min elevations\n",
    "new_min_elevations = []\n",
    "\n",
    "# Loop over each row in the main DataFrame\n",
    "for index, row in df.iterrows():\n",
    "    activity_id = row['Activity ID']\n",
    "    gpx_file_path = os.path.join(activities_dir, f'activity_{activity_id}.gpx')\n",
    "    \n",
    "    if os.path.exists(gpx_file_path):\n",
    "        min_elevation = gpx_to_min_elevation(gpx_file_path)\n",
    "        new_min_elevations.append(min_elevation)\n",
    "    else:\n",
    "        new_min_elevations.append(None)\n",
    "\n",
    "# Replace the Min. Elevation (Raw) values in the DataFrame with the new values from the GPX files\n",
    "df['Min. Elevation (Raw)'] = new_min_elevations\n",
    "\n",
    "# Check for any remaining null values in the Min. Elevation (Raw) column\n",
    "null_min_elevations = df['Min. Elevation (Raw)'].isna().sum()\n",
    "\n",
    "# Display the result\n",
    "print(f\"Number of null values in Min. Elevation (Raw) after replacement: {null_min_elevations}\")\n",
    "print(df[['Activity ID', 'Min. Elevation (Raw)']].head(10))\n"
   ]
  },
  {
   "cell_type": "code",
   "execution_count": 67,
   "metadata": {},
   "outputs": [
    {
     "name": "stdout",
     "output_type": "stream",
     "text": [
      "Number of null values in Max. Heart Rate (bpm) after replacement: 64\n",
      "Number of null values in Average Heart Rate (bpm) after calculation: 64\n",
      "   Activity ID  Max. Heart Rate (bpm)  Average Heart Rate (bpm)\n",
      "0   2284658991                  201.0                181.687995\n",
      "1   2284658936                  197.0                184.637931\n",
      "2   2228102647                  194.0                184.070773\n",
      "3   2104984694                  197.0                180.211532\n",
      "4   2084195352                  194.0                174.243100\n",
      "5   2021230223                  192.0                176.274455\n",
      "6   2006998728                  191.0                173.613708\n",
      "7   2006998614                  196.0                176.866756\n",
      "8   1988390950                  190.0                164.598989\n",
      "9   1971778346                  192.0                172.784183\n"
     ]
    }
   ],
   "source": [
    "def gpx_to_heart_rates(gpx_file):\n",
    "    \"\"\"Parse a .gpx file to extract all heart rate values and compute max and average.\"\"\"\n",
    "    with open(gpx_file, 'r') as file:\n",
    "        gpx = gpxpy.parse(file)\n",
    "        \n",
    "    heart_rates = []\n",
    "    for track in gpx.tracks:\n",
    "        for segment in track.segments:\n",
    "            for point in segment.points:\n",
    "                # Assuming heart rate is stored as an extension in the GPX file\n",
    "                if point.extensions:\n",
    "                    for ext in point.extensions:\n",
    "                        ns = {'ns3': 'http://www.garmin.com/xmlschemas/TrackPointExtension/v1'}\n",
    "                        hr = ext.find('ns3:hr', namespaces=ns)\n",
    "                        if hr is not None:\n",
    "                            heart_rates.append(int(hr.text))\n",
    "                \n",
    "    if heart_rates:\n",
    "        max_hr = max(heart_rates)\n",
    "        avg_hr = sum(heart_rates) / len(heart_rates)\n",
    "        return max_hr, avg_hr\n",
    "    else:\n",
    "        return None, None\n",
    "\n",
    "# Initialize lists to store the new max and average heart rates\n",
    "new_max_heart_rates = []\n",
    "new_avg_heart_rates = []\n",
    "\n",
    "# Loop over each row in the main DataFrame\n",
    "for index, row in df.iterrows():\n",
    "    activity_id = row['Activity ID']\n",
    "    gpx_file_path = os.path.join(activities_dir, f'activity_{activity_id}.gpx')\n",
    "    \n",
    "    if os.path.exists(gpx_file_path):\n",
    "        max_heart_rate, avg_heart_rate = gpx_to_heart_rates(gpx_file_path)\n",
    "        new_max_heart_rates.append(max_heart_rate)\n",
    "        new_avg_heart_rates.append(avg_heart_rate)\n",
    "    else:\n",
    "        new_max_heart_rates.append(None)\n",
    "        new_avg_heart_rates.append(None)\n",
    "\n",
    "# Replace the Max. Heart Rate (bpm) and Average Heart Rate (bpm) values in the DataFrame\n",
    "df['Max. Heart Rate (bpm)'] = new_max_heart_rates\n",
    "df['Average Heart Rate (bpm)'] = new_avg_heart_rates\n",
    "\n",
    "# Check for any remaining null values in the Max. and Average Heart Rate (bpm) columns\n",
    "null_max_heart_rates = df['Max. Heart Rate (bpm)'].isna().sum()\n",
    "null_avg_heart_rates = df['Average Heart Rate (bpm)'].isna().sum()\n",
    "\n",
    "# Display the result\n",
    "print(f\"Number of null values in Max. Heart Rate (bpm) after replacement: {null_max_heart_rates}\")\n",
    "print(f\"Number of null values in Average Heart Rate (bpm) after calculation: {null_avg_heart_rates}\")\n",
    "print(df[['Activity ID', 'Max. Heart Rate (bpm)', 'Average Heart Rate (bpm)']].head(10))\n"
   ]
  },
  {
   "cell_type": "code",
   "execution_count": 68,
   "metadata": {},
   "outputs": [
    {
     "name": "stdout",
     "output_type": "stream",
     "text": [
      "Number of null values in Max. Heart Rate (bpm) after replacement with mean: 0\n",
      "Number of null values in Average Heart Rate (bpm) after replacement with mean: 0\n",
      "   Activity ID  Max. Heart Rate (bpm)  Average Heart Rate (bpm)\n",
      "0   2284658991                  201.0                181.687995\n",
      "1   2284658936                  197.0                184.637931\n",
      "2   2228102647                  194.0                184.070773\n",
      "3   2104984694                  197.0                180.211532\n",
      "4   2084195352                  194.0                174.243100\n",
      "5   2021230223                  192.0                176.274455\n",
      "6   2006998728                  191.0                173.613708\n",
      "7   2006998614                  196.0                176.866756\n",
      "8   1988390950                  190.0                164.598989\n",
      "9   1971778346                  192.0                172.784183\n"
     ]
    }
   ],
   "source": [
    "# Calculate the mean of the non-null values in Max. Heart Rate (bpm) and Average Heart Rate (bpm)\n",
    "mean_max_heart_rate = df['Max. Heart Rate (bpm)'].mean()\n",
    "mean_avg_heart_rate = df['Average Heart Rate (bpm)'].mean()\n",
    "\n",
    "# Replace null values with the calculated mean\n",
    "df['Max. Heart Rate (bpm)'].fillna(mean_max_heart_rate, inplace=True)\n",
    "df['Average Heart Rate (bpm)'].fillna(mean_avg_heart_rate, inplace=True)\n",
    "\n",
    "# Check for any remaining null values\n",
    "null_max_heart_rates = df['Max. Heart Rate (bpm)'].isna().sum()\n",
    "null_avg_heart_rates = df['Average Heart Rate (bpm)'].isna().sum()\n",
    "\n",
    "# Display the result\n",
    "print(f\"Number of null values in Max. Heart Rate (bpm) after replacement with mean: {null_max_heart_rates}\")\n",
    "print(f\"Number of null values in Average Heart Rate (bpm) after replacement with mean: {null_avg_heart_rates}\")\n",
    "print(df[['Activity ID', 'Max. Heart Rate (bpm)', 'Average Heart Rate (bpm)']].head(10))\n"
   ]
  },
  {
   "cell_type": "code",
   "execution_count": 69,
   "metadata": {},
   "outputs": [
    {
     "name": "stdout",
     "output_type": "stream",
     "text": [
      "   Activity ID  Max. Heart Rate (bpm).1  GPX Min Heart Rate  \\\n",
      "0   2284658991                      113               113.0   \n",
      "1   2284658936                      100               149.0   \n",
      "2   2228102647                       95               171.0   \n",
      "3   2104984694                      109               109.0   \n",
      "4   2084195352                      110               110.0   \n",
      "5   2021230223                      101               101.0   \n",
      "6   2006998728                       99               133.0   \n",
      "7   2006998614                      100               100.0   \n",
      "8   1988390950                       92               143.0   \n",
      "9   1971778346                      123               145.0   \n",
      "\n",
      "   Min Heart Rate Difference  \n",
      "0                        0.0  \n",
      "1                       49.0  \n",
      "2                       76.0  \n",
      "3                        0.0  \n",
      "4                        0.0  \n",
      "5                        0.0  \n",
      "6                       34.0  \n",
      "7                        0.0  \n",
      "8                       51.0  \n",
      "9                       22.0  \n",
      "Number of matches between Max. Heart Rate (bpm).1 and GPX Min Heart Rate: 54 out of 155\n"
     ]
    }
   ],
   "source": [
    "def gpx_to_min_heart_rate(gpx_file):\n",
    "    \"\"\"Parse a .gpx file to extract the minimum heart rate.\"\"\"\n",
    "    with open(gpx_file, 'r') as file:\n",
    "        gpx = gpxpy.parse(file)\n",
    "        \n",
    "    heart_rates = []\n",
    "    for track in gpx.tracks:\n",
    "        for segment in track.segments:\n",
    "            for point in segment.points:\n",
    "                # Assuming heart rate is stored as an extension in the GPX file\n",
    "                if point.extensions:\n",
    "                    for ext in point.extensions:\n",
    "                        ns = {'ns3': 'http://www.garmin.com/xmlschemas/TrackPointExtension/v1'}\n",
    "                        hr = ext.find('ns3:hr', namespaces=ns)\n",
    "                        if hr is not None:\n",
    "                            heart_rates.append(int(hr.text))\n",
    "                \n",
    "    if heart_rates:\n",
    "        return min(heart_rates)\n",
    "    else:\n",
    "        return None\n",
    "\n",
    "# Initialize list to store the new min heart rates from the GPX files\n",
    "gpx_min_heart_rates = []\n",
    "\n",
    "# Loop over each row in the main DataFrame\n",
    "for index, row in df.iterrows():\n",
    "    activity_id = row['Activity ID']\n",
    "    gpx_file_path = os.path.join(activities_dir, f'activity_{activity_id}.gpx')\n",
    "    \n",
    "    if os.path.exists(gpx_file_path):\n",
    "        min_heart_rate = gpx_to_min_heart_rate(gpx_file_path)\n",
    "        gpx_min_heart_rates.append(min_heart_rate)\n",
    "    else:\n",
    "        gpx_min_heart_rates.append(None)\n",
    "\n",
    "# Compare the GPX min heart rates with the Max. Heart Rate (bpm).1 values\n",
    "df['GPX Min Heart Rate'] = gpx_min_heart_rates\n",
    "comparison = df[['Activity ID', 'Max. Heart Rate (bpm).1', 'GPX Min Heart Rate']]\n",
    "\n",
    "# Calculate the differences\n",
    "comparison['Min Heart Rate Difference'] = comparison['GPX Min Heart Rate'] - comparison['Max. Heart Rate (bpm).1']\n",
    "\n",
    "# Display the comparison\n",
    "print(comparison.head(10))\n",
    "\n",
    "# Check how many are equal\n",
    "equal_min_hr = (comparison['Max. Heart Rate (bpm).1'] == comparison['GPX Min Heart Rate']).sum()\n",
    "total_entries = len(comparison)\n",
    "\n",
    "print(f\"Number of matches between Max. Heart Rate (bpm).1 and GPX Min Heart Rate: {equal_min_hr} out of {total_entries}\")\n"
   ]
  },
  {
   "cell_type": "code",
   "execution_count": 70,
   "metadata": {},
   "outputs": [
    {
     "name": "stdout",
     "output_type": "stream",
     "text": [
      "   Activity ID  Max. Heart Rate (bpm)  Average Heart Rate (bpm)  \\\n",
      "0   2284658991                  201.0                181.687995   \n",
      "1   2284658936                  197.0                184.637931   \n",
      "2   2228102647                  194.0                184.070773   \n",
      "3   2104984694                  197.0                180.211532   \n",
      "4   2084195352                  194.0                174.243100   \n",
      "5   2021230223                  192.0                176.274455   \n",
      "6   2006998728                  191.0                173.613708   \n",
      "7   2006998614                  196.0                176.866756   \n",
      "8   1988390950                  190.0                164.598989   \n",
      "9   1971778346                  192.0                172.784183   \n",
      "\n",
      "   Min Heart Rate (bpm)  \n",
      "0                   113  \n",
      "1                   100  \n",
      "2                    95  \n",
      "3                   109  \n",
      "4                   110  \n",
      "5                   101  \n",
      "6                    99  \n",
      "7                   100  \n",
      "8                    92  \n",
      "9                   123  \n"
     ]
    }
   ],
   "source": [
    "# Rename the 'Max. Heart Rate (bpm).1' column to 'Min Heart Rate (bpm)'\n",
    "df.rename(columns={'Max. Heart Rate (bpm).1': 'Min Heart Rate (bpm)'}, inplace=True)\n",
    "print(df[['Activity ID', 'Max. Heart Rate (bpm)', 'Average Heart Rate (bpm)', 'Min Heart Rate (bpm)']].head(10))\n"
   ]
  },
  {
   "cell_type": "code",
   "execution_count": 71,
   "metadata": {},
   "outputs": [
    {
     "name": "stdout",
     "output_type": "stream",
     "text": [
      "The cleaned data has been saved as '2nd_cleaned_activities.csv'.\n"
     ]
    }
   ],
   "source": [
    "df.to_csv('2nd_cleaned_activities.csv', index=False)\n"
   ]
  },
  {
   "cell_type": "markdown",
   "metadata": {},
   "source": [
    "A PARAGRAPH TO EXPLAIN TRAINING LOAD CALCULATION\n"
   ]
  },
  {
   "cell_type": "code",
   "execution_count": null,
   "metadata": {},
   "outputs": [],
   "source": []
  },
  {
   "cell_type": "code",
   "execution_count": 72,
   "metadata": {},
   "outputs": [
    {
     "name": "stdout",
     "output_type": "stream",
     "text": [
      "   Activity ID  Duration (Minutes)  Intensity  Training Load\n",
      "0   2284658991           59.050000  90.392038    5337.649817\n",
      "1   2284658936           48.000000  93.724838    4498.792228\n",
      "2   2228102647           39.300000  94.881842    3728.856386\n",
      "3   2104984694           48.166667  91.477935    4406.187198\n",
      "4   2084195352           47.666667  89.816031    4281.230802\n",
      "5   2021230223           47.383333  91.809612    4350.245438\n",
      "6   2006998728           64.950000  90.897229    5903.775046\n",
      "7   2006998614           37.633333  90.238141    3395.962029\n",
      "8   1988390950           90.366667  86.631047    7828.558954\n",
      "9   1971778346           68.616667  89.991762    6174.934745\n"
     ]
    }
   ],
   "source": [
    "# Convert 'Duration (h:m:s)' to total minutes\n",
    "df['Duration (Minutes)'] = pd.to_timedelta(df['Duration (h:m:s)']).dt.total_seconds() / 60\n",
    "\n",
    "# Calculate Intensity as a percentage of Max Heart Rate\n",
    "df['Intensity'] = (df['Average Heart Rate (bpm)'] / df['Max. Heart Rate (bpm)']) * 100\n",
    "\n",
    "# Calculate Training Load\n",
    "df['Training Load'] = df['Intensity'] * df['Duration (Minutes)']\n",
    "\n",
    "# Display the first few rows to verify the calculations\n",
    "print(df[['Activity ID', 'Duration (Minutes)', 'Intensity', 'Training Load']].head(10))\n"
   ]
  }
 ],
 "metadata": {
  "kernelspec": {
   "display_name": "VO2_venv",
   "language": "python",
   "name": "python3"
  },
  "language_info": {
   "codemirror_mode": {
    "name": "ipython",
    "version": 3
   },
   "file_extension": ".py",
   "mimetype": "text/x-python",
   "name": "python",
   "nbconvert_exporter": "python",
   "pygments_lexer": "ipython3",
   "version": "3.10.5"
  }
 },
 "nbformat": 4,
 "nbformat_minor": 2
}
