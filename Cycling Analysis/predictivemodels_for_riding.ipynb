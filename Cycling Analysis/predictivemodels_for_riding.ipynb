{
 "cells": [
  {
   "cell_type": "code",
   "execution_count": null,
   "metadata": {},
   "outputs": [],
   "source": [
    "# Data Wrangling\n",
    "import pandas as pd\n",
    "import numpy as np\n",
    "\n",
    "# Visualisation\n",
    "import matplotlib.pyplot as plt\n",
    "import seaborn as sns\n",
    "\n",
    "# Data Transformation\n",
    "from sklearn.impute import SimpleImputer"
   ]
  },
  {
   "cell_type": "code",
   "execution_count": null,
   "metadata": {},
   "outputs": [],
   "source": [
    "# URL of the CSV file\n",
    "\n",
    "# Read the CSV file directly from the URL\n",
    "df = pd.read_csv('C:/Users/himan/OneDrive/Documents/RedbackOperations/redback-fit-sports-performance/Cycling Analysis/data/activities_cleaned.csv')\n",
    "\n",
    "# Display the first 10 rows\n",
    "df.head()"
   ]
  },
  {
   "cell_type": "code",
   "execution_count": null,
   "metadata": {},
   "outputs": [],
   "source": [
    "# Isolate the running data component\n",
    "df_ride = df[df['Activity Type'] == 'Ride']\n",
    "\n",
    "df_ride.head()"
   ]
  },
  {
   "cell_type": "code",
   "execution_count": null,
   "metadata": {},
   "outputs": [],
   "source": [
    "df_ride.info()"
   ]
  },
  {
   "cell_type": "code",
   "execution_count": null,
   "metadata": {},
   "outputs": [],
   "source": [
    "# Sum the total rows of missing values from each attribute\n",
    "missing_values = df_ride.isnull().sum()\n",
    "\n",
    "# Return only attrbutes with missing values\n",
    "missing_values[missing_values > 0]"
   ]
  },
  {
   "cell_type": "code",
   "execution_count": null,
   "metadata": {},
   "outputs": [],
   "source": [
    "# Remove attributes where 50% or more data is missing\n",
    "null_threshold = len(df_ride) * 0.5\n",
    "df_ride_clean = df_ride.dropna(thresh=null_threshold, axis=1)"
   ]
  },
  {
   "cell_type": "code",
   "execution_count": null,
   "metadata": {},
   "outputs": [],
   "source": [
    "# Columns containing missing val less than 50% of attribute\n",
    "missing_val_cols = df_ride_clean.columns[(df_ride_clean.isnull().mean() > 0) & (df_ride_clean.isnull().mean() < 0.5)].tolist()\n",
    "\n"
   ]
  },
  {
   "cell_type": "code",
   "execution_count": null,
   "metadata": {},
   "outputs": [],
   "source": [
    "imputer = SimpleImputer(strategy='mean')\n",
    "df_ride_clean[missing_val_cols] = imputer.fit_transform(df_ride_clean[missing_val_cols])\n",
    "\n",
    "df_ride_clean.info()"
   ]
  },
  {
   "cell_type": "code",
   "execution_count": null,
   "metadata": {},
   "outputs": [],
   "source": [
    "df_ride_clean['Activity Date'] = pd.to_datetime(df_ride_clean['Activity Date'], format='%d %b %Y, %H:%M:%S')\n",
    "\n",
    "# Preparing data for time series analysis\n",
    "df_ride_clean['Month'] = df_ride_clean['Activity Date'].dt.month\n",
    "df_ride_clean['Weekday'] = df_ride_clean['Activity Date'].dt.weekday\n",
    "df_ride_clean['Year'] = df_ride_clean['Activity Date'].dt.year\n",
    "\n",
    "\n",
    "# Average metrics by month\n",
    "avg_metrics_month = df_ride_clean.groupby('Month')[['Distance', 'Average Speed', 'Calories']].mean()\n",
    "\n",
    "# Average metrics by weekday\n",
    "avg_metrics_weekday = df_ride_clean.groupby('Weekday')[['Distance', 'Average Speed', 'Calories']].mean()"
   ]
  },
  {
   "cell_type": "code",
   "execution_count": null,
   "metadata": {},
   "outputs": [],
   "source": [
    "df_ride_clean.info()"
   ]
  },
  {
   "cell_type": "code",
   "execution_count": null,
   "metadata": {},
   "outputs": [],
   "source": [
    "from sklearn.svm import SVR\n",
    "from sklearn.model_selection import train_test_split\n",
    "from sklearn.metrics import mean_squared_error, mean_absolute_error, r2_score, accuracy_score\n",
    "from sklearn.preprocessing import StandardScaler\n",
    "import pandas as pd\n",
    "\n",
    "# Define the rmse function\n",
    "def rmse(predictions, targets):\n",
    "    return np.sqrt(((predictions - targets) ** 2).mean())\n",
    "\n",
    "# Split the dataset into features (X) and target variable (y)\n",
    "X = df_ride_clean[['Distance', 'Elevation Gain', 'Power Count']]\n",
    "y = df_ride_clean['Moving Time']\n",
    "\n",
    "# Split the dataset into train and test sets\n",
    "X_train, X_test, y_train, y_test = train_test_split(X, y, test_size=0.2, random_state=42)\n",
    "\n",
    "# Standardize the features\n",
    "scaler = StandardScaler()\n",
    "X_train_scaled = scaler.fit_transform(X_train)\n",
    "X_test_scaled = scaler.transform(X_test)\n",
    "\n",
    "# Train the SVM model\n",
    "svm_model = SVR(kernel='rbf')  # Radial Basis Function (RBF) kernel is commonly used for SVM regression\n",
    "svm_model.fit(X_train_scaled, y_train)\n",
    "# Make predictions on the test set\n",
    "y_pred = svm_model.predict(X_test_scaled)\n",
    "\n",
    "# Evaluate the model\n",
    "mse = mean_squared_error(y_test, y_pred)\n",
    "mae = mean_absolute_error(y_test, y_pred)\n",
    "r2 = r2_score(y_test, y_pred)\n",
    "RMSE_svr = rmse(y_test, y_pred)\n",
    "\n",
    "print(\"Performance Metrics of SVR :\")\n",
    "print(f\"Mean Squared Error (MSE): {mse:.2f}\")\n",
    "print(f\"Mean Absolute Error (MAE): {mae:.2f}\")\n",
    "print(f\"R-squared Score (R2): {r2:.2f}\")\n",
    "print(f\"Root Mean Squared Error (RMSE): {RMSE_svr:.2f}\")"
   ]
  }
 ],
 "metadata": {
  "kernelspec": {
   "display_name": "base",
   "language": "python",
   "name": "python3"
  },
  "language_info": {
   "codemirror_mode": {
    "name": "ipython",
    "version": 3
   },
   "file_extension": ".py",
   "mimetype": "text/x-python",
   "name": "python",
   "nbconvert_exporter": "python",
   "pygments_lexer": "ipython3",
   "version": "3.11.7"
  }
 },
 "nbformat": 4,
 "nbformat_minor": 2
}
